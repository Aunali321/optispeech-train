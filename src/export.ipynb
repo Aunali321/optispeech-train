{
 "cells": [
  {
   "cell_type": "code",
   "execution_count": null,
   "metadata": {},
   "outputs": [],
   "source": [
    "!pip install ospeech piper_phonemize\n",
    "%cd optispeech\n",
    "!find . -name \"*.ckpt\""
   ]
  },
  {
   "cell_type": "code",
   "execution_count": null,
   "metadata": {},
   "outputs": [],
   "source": [
    "!.venv/bin/python3 -m optispeech.onnx.export \"/workspace/optispeech/data/guj_dataset/logs/train/gujju/runs/2025-01-29_12-16-37/checkpoints/checkpoint_epoch=329_step=138920.ckpt\" last.onnx"
   ]
  },
  {
   "cell_type": "code",
   "execution_count": null,
   "metadata": {},
   "outputs": [],
   "source": [
    "!ospeech last.onnx \"નહીંતર ઉત્તરાખંડ જેવી સ્થિતિ થઇ શકે છે\" ../"
   ]
  }
 ],
 "metadata": {
  "language_info": {
   "name": "python"
  },
  "orig_nbformat": 4
 },
 "nbformat": 4,
 "nbformat_minor": 2
}
