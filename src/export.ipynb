{
 "cells": [
  {
   "cell_type": "code",
   "execution_count": null,
   "metadata": {},
   "outputs": [],
   "source": [
    "!pip install ospeech piper_phonemize\n",
    "%cd optispeech\n",
    "!find . -name \"*.ckpt\""
   ]
  },
  {
   "cell_type": "code",
   "execution_count": null,
   "metadata": {},
   "outputs": [],
   "source": [
    "!.venv/bin/python3 -m optispeech.onnx.export \"/workspace/optispeech/data/guj_dataset/logs/train/gujju/runs/2025-01-29_12-16-37/checkpoints/checkpoint_epoch=329_step=138920.ckpt\" last.onnx"
   ]
  },
  {
   "cell_type": "code",
   "execution_count": null,
   "metadata": {},
   "outputs": [],
   "source": [
    "from IPython.display import Audio\n",
    "\n",
    "!ospeech last.onnx \"ઠીક છે, ઓલિમ્પિક્સની એક મોટી પાર્ટી તરીકે કલ્પના કરો જ્યાં વિવિધ દેશોના તમામ બાળકો વિવિધ રમતો રમવા અને તેમની શ્રેષ્ઠ કુશળતા બતાવવા માટે ભેગા થાય છે. સ્કેટબોર્ડિંગ એ તે રમતોમાંની એક છે જ્યાં લોકો પૈડાં સાથે વિશિષ્ટ બોર્ડ પર સવારી કરે છે અને ઘણી બધી યુક્તિઓ કરે છે. હવે, કેટલાક લોકોએ વિચાર્યું કે આ મોટી ઓલિમ્પિક પાર્ટીમાં સ્કેટબોર્ડિંગ કરવું સરસ રહેશે\" ../ --no-split\n",
    "\n",
    "Audio(filename=\"../gen-1.wav\", autoplay=True)"
   ]
  }
 ],
 "metadata": {
  "language_info": {
   "name": "python"
  },
  "orig_nbformat": 4
 },
 "nbformat": 4,
 "nbformat_minor": 2
}
