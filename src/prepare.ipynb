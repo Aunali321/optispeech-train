{
 "cells": [
  {
   "cell_type": "code",
   "execution_count": 1,
   "metadata": {
    "id": "vU2Bg_qv7ODk"
   },
   "outputs": [
    {
     "name": "stdout",
     "output_type": "stream",
     "text": [
      "Cloning into 'optispeech'...\n",
      "remote: Enumerating objects: 2496, done.\u001b[K\n",
      "remote: Counting objects: 100% (775/775), done.\u001b[K\n",
      "remote: Compressing objects: 100% (108/108), done.\u001b[K\n",
      "remote: Total 2496 (delta 717), reused 667 (delta 667), pack-reused 1721 (from 1)\u001b[K\n",
      "Receiving objects: 100% (2496/2496), 21.89 MiB | 40.38 MiB/s, done.\n",
      "Resolving deltas: 100% (1669/1669), done.\n",
      "/root/israwave/lab/optispeech\n"
     ]
    },
    {
     "name": "stderr",
     "output_type": "stream",
     "text": [
      "/usr/local/lib/python3.11/dist-packages/IPython/core/magics/osm.py:417: UserWarning: This is now an optional IPython functionality, setting dhist requires you to install the `pickleshare` library.\n",
      "  self.shell.db['dhist'] = compress_dhist(dhist)[-100:]\n"
     ]
    }
   ],
   "source": [
    "!git clone https://github.com/thewh1teagle/optispeech -b he-v1\n",
    "%cd optispeech"
   ]
  },
  {
   "cell_type": "code",
   "execution_count": null,
   "metadata": {
    "id": "Aco6nZSM7Xjy"
   },
   "outputs": [],
   "source": [
    "%env RYE_INSTALL_OPTION=--yes\n",
    "!curl -sSf https://rye.astral.sh/get | bash\n",
    "\n",
    "!bash -c \"$(wget -O - https://apt.llvm.org/llvm.sh)\"\n",
    "!sudo apt install cmake nvtop htop p7zip-full aria2 -y\n",
    "!sudo ln -s /usr/bin/clang-18 /usr/bin/clang\n",
    "!sudo ln -s /usr/bin/clang++-18 /usr/bin/clang++"
   ]
  },
  {
   "cell_type": "code",
   "execution_count": null,
   "metadata": {
    "id": "1kKyNess7mRn"
   },
   "outputs": [],
   "source": [
    "!/root/.rye/shims/rye sync\n",
    "!/root/.rye/shims/rye add torchaudio==2.3.1"
   ]
  },
  {
   "cell_type": "code",
   "execution_count": null,
   "metadata": {},
   "outputs": [],
   "source": [
    "!pip install -e ."
   ]
  },
  {
   "cell_type": "code",
   "execution_count": 23,
   "metadata": {},
   "outputs": [],
   "source": [
    "# Split 10% for validation\n",
    "!python3 scripts/split_saspeech.py /root/train /root/guj_dataset 10"
   ]
  },
  {
   "cell_type": "code",
   "execution_count": 24,
   "metadata": {
    "id": "-7628SCA_4bo"
   },
   "outputs": [
    {
     "name": "stdout",
     "output_type": "stream",
     "text": [
      "INFO 2025/01/28 12:37:32:  Extracting datasplit `train`\n",
      "INFO 2025/01/28 12:37:32:  Found 2536 utterances in file.\n",
      "processing: 100%|████████████████████| 2536/2536 [23:37<00:00,  1.79utterance/s]\n",
      "INFO 2025/01/28 13:01:09:  Wrote file: data/guj_dataset/train.txt\n",
      "INFO 2025/01/28 13:01:09:  Extracting datasplit `val`\n",
      "INFO 2025/01/28 13:01:09:  Found 281 utterances in file.\n",
      "processing: 100%|██████████████████████| 281/281 [02:28<00:00,  1.89utterance/s]\n",
      "INFO 2025/01/28 13:03:38:  Wrote file: data/guj_dataset/val.txt\n",
      "INFO 2025/01/28 13:03:38:  Process done!\n"
     ]
    }
   ],
   "source": [
    "# Preprocess\n",
    "# Generate data/saspeech with json files and npz files\n",
    "!python3 -m optispeech.tools.preprocess_dataset guj /root/guj_dataset data/guj_dataset"
   ]
  },
  {
   "cell_type": "code",
   "execution_count": 26,
   "metadata": {},
   "outputs": [
    {
     "name": "stdout",
     "output_type": "stream",
     "text": [
      "Calculating: 100%|██████████████████████████████| 80/80 [00:12<00:00,  6.58it/s]\n",
      "  pitch_min: 61.042583\n",
      "  pitch_max: 628.113892\n",
      "  pitch_mean: 135.216248\n",
      "  pitch_std: 29.948751\n",
      "  energy_min: 0.053927\n",
      "  energy_max: 606.259827\n",
      "  energy_mean: 40.813869\n",
      "  energy_std: 43.541435\n",
      "  mel_mean: -4.259401\n",
      "  mel_std: 2.158119\n"
     ]
    }
   ],
   "source": [
    "# Edit statistics yaml file in guj.yaml\n",
    "!python -m optispeech.tools.generate_data_statistics guj\n",
    "\n",
    "# Ready to train"
   ]
  }
 ],
 "metadata": {
  "accelerator": "GPU",
  "colab": {
   "gpuType": "T4",
   "provenance": []
  },
  "kernelspec": {
   "display_name": "Python 3 (ipykernel)",
   "language": "python",
   "name": "python3"
  },
  "language_info": {
   "codemirror_mode": {
    "name": "ipython",
    "version": 3
   },
   "file_extension": ".py",
   "mimetype": "text/x-python",
   "name": "python",
   "nbconvert_exporter": "python",
   "pygments_lexer": "ipython3",
   "version": "3.11.10"
  }
 },
 "nbformat": 4,
 "nbformat_minor": 4
}
