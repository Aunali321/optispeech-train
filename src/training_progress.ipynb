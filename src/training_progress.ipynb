{
 "cells": [
  {
   "cell_type": "code",
   "execution_count": null,
   "metadata": {
    "id": "vU2Bg_qv7ODk"
   },
   "outputs": [],
   "source": [
    "!git clone https://github.com/thewh1teagle/optispeech -b he-v1\n",
    "%cd optispeech"
   ]
  },
  {
   "cell_type": "code",
   "execution_count": null,
   "metadata": {
    "id": "Aco6nZSM7Xjy"
   },
   "outputs": [],
   "source": [
    "%env RYE_INSTALL_OPTION=--yes\n",
    "!curl -sSf https://rye.astral.sh/get | bash\n",
    "\n",
    "!bash -c \"$(wget -O - https://apt.llvm.org/llvm.sh)\"\n",
    "!sudo apt install cmake nvtop htop p7zip-full aria2 -y\n",
    "!sudo ln -s /usr/bin/clang-18 /usr/bin/clang\n",
    "!sudo ln -s /usr/bin/clang++-18 /usr/bin/clang++"
   ]
  },
  {
   "cell_type": "code",
   "execution_count": null,
   "metadata": {
    "id": "1kKyNess7mRn"
   },
   "outputs": [],
   "source": [
    "!/root/.rye/shims/rye sync\n",
    "!/root/.rye/shims/rye add torchaudio==2.3.1"
   ]
  },
  {
   "cell_type": "code",
   "execution_count": null,
   "metadata": {
    "id": "3RynbYHT93RL"
   },
   "outputs": [],
   "source": [
    "# !aria2c -x16 -s16 https://github.com/Aunali321/optispeech-train/releases/download/v0.1.0/last.ckpt.7z\n",
    "# !aria2c -x16 -s16 https://github.com/Aunali321/optispeech-train/releases/download/v0.1.0/guj_dataset.7z\n",
    "\n",
    "!gh release download v0.1.0 -R https://github.com/Aunali321/optispeech-train --pattern \"last.ckpt.7z\"\n",
    "!gh release download v0.1.0 -R https://github.com/Aunali321/optispeech-train --pattern \"guj_dataset.7z\"\n",
    "!gh release download v0.1.0 -R https://github.com/Aunali321/optispeech-train --pattern \"guj.yaml\"\n",
    "!gh release download v0.1.0 -R https://github.com/Aunali321/optispeech-train --pattern \"gujju.yaml\"\n",
    "\n",
    "!7z x last.ckpt.7z\n",
    "!7z x guj_dataset.7z\n",
    "\n",
    "!mkdir data\n",
    "!mv guj_dataset data\n",
    "!mv guj.yaml configs/data/guj.yaml\n",
    "!mv gujju.yaml configs/experiment/gujju.yaml"
   ]
  },
  {
   "cell_type": "code",
   "execution_count": null,
   "metadata": {},
   "outputs": [],
   "source": [
    "!pip install huggingface_hub[cli]\n",
    "!huggingface-cli login --token your_token"
   ]
  },
  {
   "cell_type": "code",
   "execution_count": 8,
   "metadata": {
    "id": "-7628SCA_4bo"
   },
   "outputs": [],
   "source": [
    "!sed -i \"s|/root/israwave/lab/optispeech/|$(pwd)/|g\" ./data/guj_dataset/val.txt ./data/guj_dataset/train.txt"
   ]
  },
  {
   "cell_type": "code",
   "execution_count": null,
   "metadata": {},
   "outputs": [],
   "source": [
    "# Single GPU First Run\n",
    "!.venv/bin/python -m optispeech.train \\\n",
    "    experiment=\"gujju\" \\\n",
    "    model.train_args.evaluate_utmos=false \\\n",
    "    data.batch_size=12 \\\n",
    "    data.num_workers=12 \\\n",
    "    data.train_filelist_path=\"data/guj_dataset/train.txt\" \\\n",
    "    data.valid_filelist_path=\"data/guj_dataset/val.txt\" \\\n",
    "    paths.log_dir=\"data/guj_dataset/logs\" \\\n",
    "    callbacks.model_checkpoint.every_n_epochs=5 \\\n",
    "    callbacks.model_checkpoint.save_last=True \\\n",
    "    callbacks.model_checkpoint.save_on_train_epoch_end=True \\\n",
    "    trainer.check_val_every_n_epoch=25"
   ]
  },
  {
   "cell_type": "code",
   "execution_count": null,
   "metadata": {
    "colab": {
     "base_uri": "https://localhost:8080/"
    },
    "id": "BHjemE1Y73er",
    "outputId": "6182e5fd-d443-4c2e-93e0-01bd402c609c"
   },
   "outputs": [],
   "source": [
    "# # Single GPU Resume training\n",
    "!.venv/bin/python -m optispeech.train \\\n",
    "    experiment=\"gujju\" \\\n",
    "    model.train_args.evaluate_utmos=false \\\n",
    "    data.batch_size=12 \\\n",
    "    data.num_workers=12 \\\n",
    "    data.train_filelist_path=\"data/guj_dataset/train.txt\" \\\n",
    "    data.valid_filelist_path=\"data/guj_dataset/val.txt\" \\\n",
    "    paths.log_dir=\"data/guj_dataset/logs\" \\\n",
    "    callbacks.model_checkpoint.every_n_epochs=5 \\\n",
    "    callbacks.model_checkpoint.save_last=True \\\n",
    "    callbacks.model_checkpoint.save_on_train_epoch_end=True \\\n",
    "    trainer.check_val_every_n_epoch=25 \\\n",
    "    ckpt_path=\"last.ckpt\""
   ]
  },
  {
   "cell_type": "code",
   "execution_count": null,
   "metadata": {},
   "outputs": [],
   "source": [
    "# Multi GPU First Run\n",
    "!.venv/bin/python -m optispeech.train \\\n",
    "    experiment=\"gujju\" \\\n",
    "    model.train_args.evaluate_utmos=false \\\n",
    "    data.batch_size=12 \\\n",
    "    data.num_workers=48 \\\n",
    "    data.train_filelist_path=\"data/guj_dataset/train.txt\" \\\n",
    "    data.valid_filelist_path=\"data/guj_dataset/val.txt\" \\\n",
    "    paths.log_dir=\"data/guj_dataset/logs\" \\\n",
    "    callbacks.model_checkpoint.every_n_epochs=5 \\\n",
    "    callbacks.model_checkpoint.save_last=True \\\n",
    "    callbacks.model_checkpoint.save_on_train_epoch_end=True \\\n",
    "    trainer=ddp \\\n",
    "    trainer.devices=[0] \\\n",
    "    trainer.strategy=ddp_find_unused_parameters_true \\\n",
    "    trainer.accelerator=gpu \\\n",
    "    trainer.sync_batchnorm=True \\\n",
    "    trainer.check_val_every_n_epoch=25"
   ]
  },
  {
   "cell_type": "code",
   "execution_count": null,
   "metadata": {},
   "outputs": [],
   "source": [
    "# Multi GPU Resume training\n",
    "!.venv/bin/python -m optispeech.train \\\n",
    "    experiment=\"gujju\" \\\n",
    "    model.train_args.evaluate_utmos=false \\\n",
    "    data.batch_size=12 \\\n",
    "    data.num_workers=48 \\\n",
    "    data.train_filelist_path=\"data/guj_dataset/train.txt\" \\\n",
    "    data.valid_filelist_path=\"data/guj_dataset/val.txt\" \\\n",
    "    paths.log_dir=\"data/guj_dataset/logs\" \\\n",
    "    callbacks.model_checkpoint.every_n_epochs=5 \\\n",
    "    callbacks.model_checkpoint.save_last=True \\\n",
    "    callbacks.model_checkpoint.save_on_train_epoch_end=True \\\n",
    "    trainer=ddp \\\n",
    "    trainer.devices=[0] \\\n",
    "    trainer.strategy=ddp_find_unused_parameters_true \\\n",
    "    trainer.accelerator=gpu \\\n",
    "    trainer.sync_batchnorm=True \\\n",
    "    trainer.check_val_every_n_epoch=25 \\\n",
    "    ckpt_path=\"last.ckpt\""
   ]
  },
  {
   "cell_type": "code",
   "execution_count": null,
   "metadata": {},
   "outputs": [],
   "source": [
    "#!7z a last.ckpt.7z last.ckpt\n",
    "#!gh release upload v0.1.0 last.ckpt.7z -R https://github.com/Aunali321/optispeech-train --clobber\n",
    "\n",
    "!7z a last.ckpt.7z last.ckpt && gh release upload v0.1.0 last.ckpt.7z -R https://github.com/Aunali321/optispeech-train --clobber && rm last.ckpt.7z\n",
    "!7z a 'checkpoint_epoch=819_step=337440.ckpt.7z' 'checkpoint_epoch=819_step=337440.ckpt' && gh release upload v0.1.0 checkpoint_epoch=819_step=337440.ckpt.7z -R https://github.com/Aunali321/optispeech-train --clobber && rm checkpoint_epoch=819_step=337440.ckpt.7z"
   ]
  }
 ],
 "metadata": {
  "accelerator": "GPU",
  "colab": {
   "gpuType": "T4",
   "provenance": []
  },
  "kernelspec": {
   "display_name": "Python 3 (ipykernel)",
   "language": "python",
   "name": "python3"
  },
  "language_info": {
   "codemirror_mode": {
    "name": "ipython",
    "version": 3
   },
   "file_extension": ".py",
   "mimetype": "text/x-python",
   "name": "python",
   "nbconvert_exporter": "python",
   "pygments_lexer": "ipython3",
   "version": "3.11.10"
  }
 },
 "nbformat": 4,
 "nbformat_minor": 4
}
