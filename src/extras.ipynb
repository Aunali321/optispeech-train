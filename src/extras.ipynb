{
 "cells": [
  {
   "cell_type": "code",
   "execution_count": null,
   "metadata": {},
   "outputs": [],
   "source": [
    "# Single GPU NO RESUME\n",
    "!.venv/bin/python -m optispeech.train \\\n",
    "    experiment=\"gujju\" \\\n",
    "    model.train_args.evaluate_utmos=false \\\n",
    "    data.batch_size=8 \\\n",
    "    data.num_workers=2 \\\n",
    "    data.train_filelist_path=\"data/guj_dataset/train.txt\" \\\n",
    "    data.valid_filelist_path=\"data/guj_dataset/train.txt\" \\\n",
    "    paths.log_dir=\"data/guj_dataset/logs\" \\\n",
    "    callbacks.model_checkpoint.every_n_epochs=1  \\\n",
    "    callbacks.model_checkpoint.save_on_train_epoch_end=True\n",
    "    # ckpt_path=\"last.ckpt\""
   ]
  },
  {
   "cell_type": "code",
   "execution_count": null,
   "metadata": {},
   "outputs": [],
   "source": [
    "# Multi GPU NO RESUME\n",
    "!.venv/bin/python -m optispeech.train \\\n",
    "    experiment=\"gujju\" \\\n",
    "    model.train_args.evaluate_utmos=false \\\n",
    "    data.batch_size=12 \\\n",
    "    data.num_workers=48 \\\n",
    "    data.train_filelist_path=\"data/guj_dataset/train.txt\" \\\n",
    "    data.valid_filelist_path=\"data/guj_dataset/train.txt\" \\\n",
    "    paths.log_dir=\"data/guj_dataset/logs\" \\\n",
    "    callbacks.model_checkpoint.every_n_epochs=5  \\\n",
    "    callbacks.model_checkpoint.save_on_train_epoch_end=True \\\n",
    "    trainer=ddp \\\n",
    "    trainer.devices=[0,1,2,3] \\\n",
    "    trainer.strategy=ddp_find_unused_parameters_true \\\n",
    "    trainer.accelerator=gpu \\\n",
    "    trainer.sync_batchnorm=True \\\n",
    "    trainer.check_val_every_n_epoch=25"
   ]
  }
 ],
 "metadata": {
  "language_info": {
   "name": "python"
  },
  "orig_nbformat": 4
 },
 "nbformat": 4,
 "nbformat_minor": 2
}
